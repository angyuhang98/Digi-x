{
 "cells": [
  {
   "cell_type": "markdown",
   "metadata": {},
   "source": [
    "# Section 2.1\n",
    "\n",
    "First, I created a list to store the output, then I use double loop to check every input numbers with every number from 1 to max value(100), if the number is divisible by either of input numbers, append it into list.\n"
   ]
  },
  {
   "cell_type": "code",
   "execution_count": 7,
   "metadata": {},
   "outputs": [
    {
     "name": "stdout",
     "output_type": "stream",
     "text": [
      "[3, 5, 6, 9, 10, 12, 15, 15, 18, 20, 21, 24, 25, 27, 30, 30, 33, 35, 36, 39, 40, 42, 45, 45, 48, 50, 51, 54, 55, 57, 60, 60, 63, 65, 66, 69, 70, 72, 75, 75, 78, 80, 81, 84, 85, 87, 90, 90, 93, 95, 96, 99]\n"
     ]
    }
   ],
   "source": [
    "def multiply(listofnum,max):\n",
    "    alist=[]\n",
    "    \n",
    "    for i in range(1,max):\n",
    "        for j in range(len(listofnum)):\n",
    "            if i%listofnum[j]==0:\n",
    "                alist.append(i)\n",
    "    return alist\n",
    "\n",
    "print(multiply([3,5],100))\n"
   ]
  },
  {
   "cell_type": "markdown",
   "metadata": {},
   "source": [
    "# Section 2.2\n",
    "First I need to make sure the input list is sorted, then I calculated the the start index by substract the length of array with total positive number since we can just neglected the negative number. After that, I find the maximum value in input arr.\n",
    "\n",
    "I loop through any number from maximum to 1, check whether all items in arr is divisible by the number, if the number is common factor of every items in arr, return the number\n",
    "\n",
    "I think the sample output C is wrong, because HCF of 1,3,21 should be 1 instead of 3"
   ]
  },
  {
   "cell_type": "code",
   "execution_count": 6,
   "metadata": {},
   "outputs": [
    {
     "name": "stdout",
     "output_type": "stream",
     "text": [
      "2\n",
      "1\n",
      "1\n",
      "4\n",
      "21\n"
     ]
    }
   ],
   "source": [
    "def findHCF(num,arr):\n",
    "    arr.sort()\n",
    "    startindex=len(arr)-num\n",
    "    max=0\n",
    "    \n",
    "    for i in range(len(arr)):\n",
    "        if arr[i]>max:\n",
    "            max=arr[i]\n",
    "            \n",
    "    for i in range(max,0,-1):\n",
    "     count=0\n",
    "    \n",
    "     for j in range(startindex,len(arr)):\n",
    "        if arr[j]%i==0:\n",
    "            count+=1\n",
    "     if count==num:\n",
    "         return i\n",
    "        \n",
    "    return 0\n",
    "\n",
    "print(findHCF(5,[2,4,6,8,10]))\n",
    "print(findHCF(5,[2,3,4,5,6]))\n",
    "print(findHCF(3,[-3,-1,1,3,21]))\n",
    "print(findHCF(4,[-1,4,48,12,8]))\n",
    "print(findHCF(1,[-1,-2,-3,-4,21]))"
   ]
  },
  {
   "cell_type": "markdown",
   "metadata": {},
   "source": [
    "# Section 2.3\n",
    "first I lower the input word to make sure the consistency of input.\n",
    "\n",
    "I split the word into first half and second half. I also reverse the first half. To handle the odd length word, I neglected the middle character in the word by adding  start index of second half word by 1 to make sure the first half of word and second half of word have same length.\n",
    "\n",
    "After that, I check whether the the second half is word with reversed first half of word, if they are equal the input word is palindrome."
   ]
  },
  {
   "cell_type": "code",
   "execution_count": 3,
   "metadata": {},
   "outputs": [
    {
     "name": "stdout",
     "output_type": "stream",
     "text": [
      "True\n",
      "True\n",
      "False\n",
      "True\n"
     ]
    }
   ],
   "source": [
    "def is_panlindrome(word):\n",
    "    word=word.lower()\n",
    "\n",
    "    if len(word)%2==0:\n",
    "        front = word[:len(word) // 2][-1::-1]\n",
    "        back = word[(len(word) // 2):]\n",
    "\n",
    "    else:\n",
    "        front = word[:len(word) // 2][-1::-1]\n",
    "        back = word[(len(word) // 2)+1:]\n",
    "\n",
    "    if front==back:\n",
    "            return True\n",
    "    else:\n",
    "            return False\n",
    "\n",
    "print(is_panlindrome('tacocat'))\n",
    "print(is_panlindrome('racecar'))\n",
    "print(is_panlindrome('beanbag'))\n",
    "print(is_panlindrome('Hannah'))"
   ]
  },
  {
   "cell_type": "code",
   "execution_count": null,
   "metadata": {},
   "outputs": [],
   "source": []
  }
 ],
 "metadata": {
  "kernelspec": {
   "display_name": "Python 3",
   "language": "python",
   "name": "python3"
  },
  "language_info": {
   "codemirror_mode": {
    "name": "ipython",
    "version": 3
   },
   "file_extension": ".py",
   "mimetype": "text/x-python",
   "name": "python",
   "nbconvert_exporter": "python",
   "pygments_lexer": "ipython3",
   "version": "3.7.3"
  }
 },
 "nbformat": 4,
 "nbformat_minor": 2
}
